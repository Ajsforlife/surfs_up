{
 "cells": [
  {
   "cell_type": "markdown",
   "metadata": {
    "slideshow": {
     "slide_type": "slide"
    }
   },
   "source": [
    "# SQLAlchemy, Sqlite, and Dates"
   ]
  },
  {
   "cell_type": "markdown",
   "metadata": {
    "slideshow": {
     "slide_type": "slide"
    }
   },
   "source": [
    "## Setup"
   ]
  },
  {
   "cell_type": "code",
   "execution_count": 13,
   "metadata": {},
   "outputs": [],
   "source": [
    "import matplotlib\n",
    "from matplotlib import style\n",
    "style.use('fivethirtyeight')\n",
    "import matplotlib.pyplot as plt\n",
    "import datetime as dt"
   ]
  },
  {
   "cell_type": "code",
   "execution_count": 2,
   "metadata": {},
   "outputs": [],
   "source": [
    "import pandas as pd"
   ]
  },
  {
   "cell_type": "code",
   "execution_count": 3,
   "metadata": {
    "slideshow": {
     "slide_type": "subslide"
    }
   },
   "outputs": [],
   "source": [
    "# Python SQL toolkit and Object Relational Mapper\n",
    "import sqlalchemy\n",
    "from sqlalchemy.ext.automap import automap_base\n",
    "from sqlalchemy.orm import Session\n",
    "from sqlalchemy import create_engine, inspect, func"
   ]
  },
  {
   "cell_type": "code",
   "execution_count": 4,
   "metadata": {
    "slideshow": {
     "slide_type": "subslide"
    }
   },
   "outputs": [],
   "source": [
    "engine = create_engine(\"sqlite:///../Resources/dow.sqlite\", echo=False)"
   ]
  },
  {
   "cell_type": "code",
   "execution_count": 5,
   "metadata": {
    "slideshow": {
     "slide_type": "subslide"
    }
   },
   "outputs": [
    {
     "data": {
      "text/plain": [
       "[(1, 1, 'AA', '2011-01-07', 15.82, 16.72, 15.78, 16.42, 239655616, None),\n",
       " (2, 1, 'AA', '2011-01-14', 16.71, 16.71, 15.64, 15.97, 242963398, None),\n",
       " (3, 1, 'AA', '2011-01-21', 16.19, 16.38, 15.6, 15.79, 138428495, None),\n",
       " (4, 1, 'AA', '2011-01-28', 15.87, 16.63, 15.82, 16.13, 151379173, None),\n",
       " (5, 1, 'AA', '2011-02-04', 16.18, 17.39, 16.18, 17.14, 154387761, None)]"
      ]
     },
     "execution_count": 5,
     "metadata": {},
     "output_type": "execute_result"
    }
   ],
   "source": [
    "engine.execute('SELECT * FROM dow LIMIT 5').fetchall()"
   ]
  },
  {
   "cell_type": "code",
   "execution_count": 6,
   "metadata": {},
   "outputs": [
    {
     "name": "stdout",
     "output_type": "stream",
     "text": [
      "id INTEGER\n",
      "quarter INTEGER\n",
      "stock TEXT\n",
      "date TEXT\n",
      "open_price FLOAT\n",
      "high_price FLOAT\n",
      "low_price FLOAT\n",
      "close_price FLOAT\n",
      "volume INTEGER\n",
      "percent_change FLOAT\n"
     ]
    }
   ],
   "source": [
    "inspector = inspect(engine)\n",
    "columns = inspector.get_columns('dow')\n",
    "for c in columns:\n",
    "    print(c['name'], c[\"type\"])"
   ]
  },
  {
   "cell_type": "markdown",
   "metadata": {
    "slideshow": {
     "slide_type": "slide"
    }
   },
   "source": [
    "## Reflect and query dates"
   ]
  },
  {
   "cell_type": "code",
   "execution_count": 7,
   "metadata": {
    "slideshow": {
     "slide_type": "subslide"
    }
   },
   "outputs": [],
   "source": [
    "# Reflect Database into ORM class\n",
    "Base = automap_base()\n",
    "Base.prepare(engine, reflect=True)\n",
    "Dow = Base.classes.dow"
   ]
  },
  {
   "cell_type": "code",
   "execution_count": 8,
   "metadata": {
    "slideshow": {
     "slide_type": "fragment"
    }
   },
   "outputs": [],
   "source": [
    "session = Session(engine)"
   ]
  },
  {
   "cell_type": "code",
   "execution_count": 10,
   "metadata": {},
   "outputs": [
    {
     "data": {
      "text/plain": [
       "[(750,)]"
      ]
     },
     "execution_count": 10,
     "metadata": {},
     "output_type": "execute_result"
    }
   ],
   "source": [
    "#total dates\n",
    "session.query(func.count(Dow.date)).all()"
   ]
  },
  {
   "cell_type": "code",
   "execution_count": 11,
   "metadata": {},
   "outputs": [
    {
     "data": {
      "text/plain": [
       "('2011-01-07',)"
      ]
     },
     "execution_count": 11,
     "metadata": {},
     "output_type": "execute_result"
    }
   ],
   "source": [
    "#earliest date\n",
    "session.query(Dow.date).order_by(Dow.date).first()"
   ]
  },
  {
   "cell_type": "code",
   "execution_count": 24,
   "metadata": {},
   "outputs": [
    {
     "data": {
      "text/plain": [
       "[('2011-03-04',),\n",
       " ('2011-03-11',),\n",
       " ('2011-03-18',),\n",
       " ('2011-03-25',),\n",
       " ('2011-03-04',),\n",
       " ('2011-03-11',),\n",
       " ('2011-03-18',),\n",
       " ('2011-03-25',),\n",
       " ('2011-03-04',),\n",
       " ('2011-03-11',),\n",
       " ('2011-03-18',),\n",
       " ('2011-03-25',),\n",
       " ('2011-03-04',),\n",
       " ('2011-03-11',),\n",
       " ('2011-03-18',),\n",
       " ('2011-03-25',),\n",
       " ('2011-03-04',),\n",
       " ('2011-03-11',),\n",
       " ('2011-03-18',),\n",
       " ('2011-03-25',),\n",
       " ('2011-03-04',),\n",
       " ('2011-03-11',),\n",
       " ('2011-03-18',),\n",
       " ('2011-03-25',),\n",
       " ('2011-03-04',),\n",
       " ('2011-03-11',),\n",
       " ('2011-03-18',),\n",
       " ('2011-03-25',),\n",
       " ('2011-03-04',),\n",
       " ('2011-03-11',),\n",
       " ('2011-03-18',),\n",
       " ('2011-03-25',),\n",
       " ('2011-03-04',),\n",
       " ('2011-03-11',),\n",
       " ('2011-03-18',),\n",
       " ('2011-03-25',),\n",
       " ('2011-03-04',),\n",
       " ('2011-03-11',),\n",
       " ('2011-03-18',),\n",
       " ('2011-03-25',),\n",
       " ('2011-03-04',),\n",
       " ('2011-03-11',),\n",
       " ('2011-03-18',),\n",
       " ('2011-03-25',),\n",
       " ('2011-03-04',),\n",
       " ('2011-03-11',),\n",
       " ('2011-03-18',),\n",
       " ('2011-03-25',),\n",
       " ('2011-03-04',),\n",
       " ('2011-03-11',),\n",
       " ('2011-03-18',),\n",
       " ('2011-03-25',),\n",
       " ('2011-03-04',),\n",
       " ('2011-03-11',),\n",
       " ('2011-03-18',),\n",
       " ('2011-03-25',),\n",
       " ('2011-03-04',),\n",
       " ('2011-03-11',),\n",
       " ('2011-03-18',),\n",
       " ('2011-03-25',),\n",
       " ('2011-03-04',),\n",
       " ('2011-03-11',),\n",
       " ('2011-03-18',),\n",
       " ('2011-03-25',),\n",
       " ('2011-03-04',),\n",
       " ('2011-03-11',),\n",
       " ('2011-03-18',),\n",
       " ('2011-03-25',),\n",
       " ('2011-03-04',),\n",
       " ('2011-03-11',),\n",
       " ('2011-03-18',),\n",
       " ('2011-03-25',),\n",
       " ('2011-03-04',),\n",
       " ('2011-03-11',),\n",
       " ('2011-03-18',),\n",
       " ('2011-03-25',),\n",
       " ('2011-03-04',),\n",
       " ('2011-03-11',),\n",
       " ('2011-03-18',),\n",
       " ('2011-03-25',),\n",
       " ('2011-03-04',),\n",
       " ('2011-03-11',),\n",
       " ('2011-03-18',),\n",
       " ('2011-03-25',),\n",
       " ('2011-03-04',),\n",
       " ('2011-03-11',),\n",
       " ('2011-03-18',),\n",
       " ('2011-03-25',),\n",
       " ('2011-03-04',),\n",
       " ('2011-03-11',),\n",
       " ('2011-03-18',),\n",
       " ('2011-03-25',),\n",
       " ('2011-03-04',),\n",
       " ('2011-03-11',),\n",
       " ('2011-03-18',),\n",
       " ('2011-03-25',),\n",
       " ('2011-03-04',),\n",
       " ('2011-03-11',),\n",
       " ('2011-03-18',),\n",
       " ('2011-03-25',),\n",
       " ('2011-03-04',),\n",
       " ('2011-03-11',),\n",
       " ('2011-03-18',),\n",
       " ('2011-03-25',),\n",
       " ('2011-03-04',),\n",
       " ('2011-03-11',),\n",
       " ('2011-03-18',),\n",
       " ('2011-03-25',),\n",
       " ('2011-03-04',),\n",
       " ('2011-03-11',),\n",
       " ('2011-03-18',),\n",
       " ('2011-03-25',),\n",
       " ('2011-03-04',),\n",
       " ('2011-03-11',),\n",
       " ('2011-03-18',),\n",
       " ('2011-03-25',),\n",
       " ('2011-03-04',),\n",
       " ('2011-03-11',),\n",
       " ('2011-03-18',),\n",
       " ('2011-03-25',),\n",
       " ('2011-04-01',),\n",
       " ('2011-04-08',),\n",
       " ('2011-04-15',),\n",
       " ('2011-04-21',),\n",
       " ('2011-04-29',),\n",
       " ('2011-05-06',),\n",
       " ('2011-05-13',),\n",
       " ('2011-05-20',),\n",
       " ('2011-05-27',),\n",
       " ('2011-06-03',),\n",
       " ('2011-06-10',),\n",
       " ('2011-06-17',),\n",
       " ('2011-06-24',),\n",
       " ('2011-04-01',),\n",
       " ('2011-04-08',),\n",
       " ('2011-04-15',),\n",
       " ('2011-04-21',),\n",
       " ('2011-04-29',),\n",
       " ('2011-05-06',),\n",
       " ('2011-05-13',),\n",
       " ('2011-05-20',),\n",
       " ('2011-05-27',),\n",
       " ('2011-06-03',),\n",
       " ('2011-06-10',),\n",
       " ('2011-06-17',),\n",
       " ('2011-06-24',),\n",
       " ('2011-04-01',),\n",
       " ('2011-04-08',),\n",
       " ('2011-04-15',),\n",
       " ('2011-04-21',),\n",
       " ('2011-04-29',),\n",
       " ('2011-05-06',),\n",
       " ('2011-05-13',),\n",
       " ('2011-05-20',),\n",
       " ('2011-05-27',),\n",
       " ('2011-06-03',),\n",
       " ('2011-06-10',),\n",
       " ('2011-06-17',),\n",
       " ('2011-06-24',),\n",
       " ('2011-04-01',),\n",
       " ('2011-04-08',),\n",
       " ('2011-04-15',),\n",
       " ('2011-04-21',),\n",
       " ('2011-04-29',),\n",
       " ('2011-05-06',),\n",
       " ('2011-05-13',),\n",
       " ('2011-05-20',),\n",
       " ('2011-05-27',),\n",
       " ('2011-06-03',),\n",
       " ('2011-06-10',),\n",
       " ('2011-06-17',),\n",
       " ('2011-06-24',),\n",
       " ('2011-04-01',),\n",
       " ('2011-04-08',),\n",
       " ('2011-04-15',),\n",
       " ('2011-04-21',),\n",
       " ('2011-04-29',),\n",
       " ('2011-05-06',),\n",
       " ('2011-05-13',),\n",
       " ('2011-05-20',),\n",
       " ('2011-05-27',),\n",
       " ('2011-06-03',),\n",
       " ('2011-06-10',),\n",
       " ('2011-06-17',),\n",
       " ('2011-06-24',),\n",
       " ('2011-04-01',),\n",
       " ('2011-04-08',),\n",
       " ('2011-04-15',),\n",
       " ('2011-04-21',),\n",
       " ('2011-04-29',),\n",
       " ('2011-05-06',),\n",
       " ('2011-05-13',),\n",
       " ('2011-05-20',),\n",
       " ('2011-05-27',),\n",
       " ('2011-06-03',),\n",
       " ('2011-06-10',),\n",
       " ('2011-06-17',),\n",
       " ('2011-06-24',),\n",
       " ('2011-04-01',),\n",
       " ('2011-04-08',),\n",
       " ('2011-04-15',),\n",
       " ('2011-04-21',),\n",
       " ('2011-04-29',),\n",
       " ('2011-05-06',),\n",
       " ('2011-05-13',),\n",
       " ('2011-05-20',),\n",
       " ('2011-05-27',),\n",
       " ('2011-06-03',),\n",
       " ('2011-06-10',),\n",
       " ('2011-06-17',),\n",
       " ('2011-06-24',),\n",
       " ('2011-04-01',),\n",
       " ('2011-04-08',),\n",
       " ('2011-04-15',),\n",
       " ('2011-04-21',),\n",
       " ('2011-04-29',),\n",
       " ('2011-05-06',),\n",
       " ('2011-05-13',),\n",
       " ('2011-05-20',),\n",
       " ('2011-05-27',),\n",
       " ('2011-06-03',),\n",
       " ('2011-06-10',),\n",
       " ('2011-06-17',),\n",
       " ('2011-06-24',),\n",
       " ('2011-04-01',),\n",
       " ('2011-04-08',),\n",
       " ('2011-04-15',),\n",
       " ('2011-04-21',),\n",
       " ('2011-04-29',),\n",
       " ('2011-05-06',),\n",
       " ('2011-05-13',),\n",
       " ('2011-05-20',),\n",
       " ('2011-05-27',),\n",
       " ('2011-06-03',),\n",
       " ('2011-06-10',),\n",
       " ('2011-06-17',),\n",
       " ('2011-06-24',),\n",
       " ('2011-04-01',),\n",
       " ('2011-04-08',),\n",
       " ('2011-04-15',),\n",
       " ('2011-04-21',),\n",
       " ('2011-04-29',),\n",
       " ('2011-05-06',),\n",
       " ('2011-05-13',),\n",
       " ('2011-05-20',),\n",
       " ('2011-05-27',),\n",
       " ('2011-06-03',),\n",
       " ('2011-06-10',),\n",
       " ('2011-06-17',),\n",
       " ('2011-06-24',),\n",
       " ('2011-04-01',),\n",
       " ('2011-04-08',),\n",
       " ('2011-04-15',),\n",
       " ('2011-04-21',),\n",
       " ('2011-04-29',),\n",
       " ('2011-05-06',),\n",
       " ('2011-05-13',),\n",
       " ('2011-05-20',),\n",
       " ('2011-05-27',),\n",
       " ('2011-06-03',),\n",
       " ('2011-06-10',),\n",
       " ('2011-06-17',),\n",
       " ('2011-06-24',),\n",
       " ('2011-04-01',),\n",
       " ('2011-04-08',),\n",
       " ('2011-04-15',),\n",
       " ('2011-04-21',),\n",
       " ('2011-04-29',),\n",
       " ('2011-05-06',),\n",
       " ('2011-05-13',),\n",
       " ('2011-05-20',),\n",
       " ('2011-05-27',),\n",
       " ('2011-06-03',),\n",
       " ('2011-06-10',),\n",
       " ('2011-06-17',),\n",
       " ('2011-06-24',),\n",
       " ('2011-04-01',),\n",
       " ('2011-04-08',),\n",
       " ('2011-04-15',),\n",
       " ('2011-04-21',),\n",
       " ('2011-04-29',),\n",
       " ('2011-05-06',),\n",
       " ('2011-05-13',),\n",
       " ('2011-05-20',),\n",
       " ('2011-05-27',),\n",
       " ('2011-06-03',),\n",
       " ('2011-06-10',),\n",
       " ('2011-06-17',),\n",
       " ('2011-06-24',),\n",
       " ('2011-04-01',),\n",
       " ('2011-04-08',),\n",
       " ('2011-04-15',),\n",
       " ('2011-04-21',),\n",
       " ('2011-04-29',),\n",
       " ('2011-05-06',),\n",
       " ('2011-05-13',),\n",
       " ('2011-05-20',),\n",
       " ('2011-05-27',),\n",
       " ('2011-06-03',),\n",
       " ('2011-06-10',),\n",
       " ('2011-06-17',),\n",
       " ('2011-06-24',),\n",
       " ('2011-04-01',),\n",
       " ('2011-04-08',),\n",
       " ('2011-04-15',),\n",
       " ('2011-04-21',),\n",
       " ('2011-04-29',),\n",
       " ('2011-05-06',),\n",
       " ('2011-05-13',),\n",
       " ('2011-05-20',),\n",
       " ('2011-05-27',),\n",
       " ('2011-06-03',),\n",
       " ('2011-06-10',),\n",
       " ('2011-06-17',),\n",
       " ('2011-06-24',),\n",
       " ('2011-04-01',),\n",
       " ('2011-04-08',),\n",
       " ('2011-04-15',),\n",
       " ('2011-04-21',),\n",
       " ('2011-04-29',),\n",
       " ('2011-05-06',),\n",
       " ('2011-05-13',),\n",
       " ('2011-05-20',),\n",
       " ('2011-05-27',),\n",
       " ('2011-06-03',),\n",
       " ('2011-06-10',),\n",
       " ('2011-06-17',),\n",
       " ('2011-06-24',),\n",
       " ('2011-04-01',),\n",
       " ('2011-04-08',),\n",
       " ('2011-04-15',),\n",
       " ('2011-04-21',),\n",
       " ('2011-04-29',),\n",
       " ('2011-05-06',),\n",
       " ('2011-05-13',),\n",
       " ('2011-05-20',),\n",
       " ('2011-05-27',),\n",
       " ('2011-06-03',),\n",
       " ('2011-06-10',),\n",
       " ('2011-06-17',),\n",
       " ('2011-06-24',),\n",
       " ('2011-04-01',),\n",
       " ('2011-04-08',),\n",
       " ('2011-04-15',),\n",
       " ('2011-04-21',),\n",
       " ('2011-04-29',),\n",
       " ('2011-05-06',),\n",
       " ('2011-05-13',),\n",
       " ('2011-05-20',),\n",
       " ('2011-05-27',),\n",
       " ('2011-06-03',),\n",
       " ('2011-06-10',),\n",
       " ('2011-06-17',),\n",
       " ('2011-06-24',),\n",
       " ('2011-04-01',),\n",
       " ('2011-04-08',),\n",
       " ('2011-04-15',),\n",
       " ('2011-04-21',),\n",
       " ('2011-04-29',),\n",
       " ('2011-05-06',),\n",
       " ('2011-05-13',),\n",
       " ('2011-05-20',),\n",
       " ('2011-05-27',),\n",
       " ('2011-06-03',),\n",
       " ('2011-06-10',),\n",
       " ('2011-06-17',),\n",
       " ('2011-06-24',),\n",
       " ('2011-04-01',),\n",
       " ('2011-04-08',),\n",
       " ('2011-04-15',),\n",
       " ('2011-04-21',),\n",
       " ('2011-04-29',),\n",
       " ('2011-05-06',),\n",
       " ('2011-05-13',),\n",
       " ('2011-05-20',),\n",
       " ('2011-05-27',),\n",
       " ('2011-06-03',),\n",
       " ('2011-06-10',),\n",
       " ('2011-06-17',),\n",
       " ('2011-06-24',),\n",
       " ('2011-04-01',),\n",
       " ('2011-04-08',),\n",
       " ('2011-04-15',),\n",
       " ('2011-04-21',),\n",
       " ('2011-04-29',),\n",
       " ('2011-05-06',),\n",
       " ('2011-05-13',),\n",
       " ('2011-05-20',),\n",
       " ('2011-05-27',),\n",
       " ('2011-06-03',),\n",
       " ('2011-06-10',),\n",
       " ('2011-06-17',),\n",
       " ('2011-06-24',),\n",
       " ('2011-04-01',),\n",
       " ('2011-04-08',),\n",
       " ('2011-04-15',),\n",
       " ('2011-04-21',),\n",
       " ('2011-04-29',),\n",
       " ('2011-05-06',),\n",
       " ('2011-05-13',),\n",
       " ('2011-05-20',),\n",
       " ('2011-05-27',),\n",
       " ('2011-06-03',),\n",
       " ('2011-06-10',),\n",
       " ('2011-06-17',),\n",
       " ('2011-06-24',),\n",
       " ('2011-04-01',),\n",
       " ('2011-04-08',),\n",
       " ('2011-04-15',),\n",
       " ('2011-04-21',),\n",
       " ('2011-04-29',),\n",
       " ('2011-05-06',),\n",
       " ('2011-05-13',),\n",
       " ('2011-05-20',),\n",
       " ('2011-05-27',),\n",
       " ('2011-06-03',),\n",
       " ('2011-06-10',),\n",
       " ('2011-06-17',),\n",
       " ('2011-06-24',),\n",
       " ('2011-04-01',),\n",
       " ('2011-04-08',),\n",
       " ('2011-04-15',),\n",
       " ('2011-04-21',),\n",
       " ('2011-04-29',),\n",
       " ('2011-05-06',),\n",
       " ('2011-05-13',),\n",
       " ('2011-05-20',),\n",
       " ('2011-05-27',),\n",
       " ('2011-06-03',),\n",
       " ('2011-06-10',),\n",
       " ('2011-06-17',),\n",
       " ('2011-06-24',),\n",
       " ('2011-04-01',),\n",
       " ('2011-04-08',),\n",
       " ('2011-04-15',),\n",
       " ('2011-04-21',),\n",
       " ('2011-04-29',),\n",
       " ('2011-05-06',),\n",
       " ('2011-05-13',),\n",
       " ('2011-05-20',),\n",
       " ('2011-05-27',),\n",
       " ('2011-06-03',),\n",
       " ('2011-06-10',),\n",
       " ('2011-06-17',),\n",
       " ('2011-06-24',),\n",
       " ('2011-04-01',),\n",
       " ('2011-04-08',),\n",
       " ('2011-04-15',),\n",
       " ('2011-04-21',),\n",
       " ('2011-04-29',),\n",
       " ('2011-05-06',),\n",
       " ('2011-05-13',),\n",
       " ('2011-05-20',),\n",
       " ('2011-05-27',),\n",
       " ('2011-06-03',),\n",
       " ('2011-06-10',),\n",
       " ('2011-06-17',),\n",
       " ('2011-06-24',),\n",
       " ('2011-04-01',),\n",
       " ('2011-04-08',),\n",
       " ('2011-04-15',),\n",
       " ('2011-04-21',),\n",
       " ('2011-04-29',),\n",
       " ('2011-05-06',),\n",
       " ('2011-05-13',),\n",
       " ('2011-05-20',),\n",
       " ('2011-05-27',),\n",
       " ('2011-06-03',),\n",
       " ('2011-06-10',),\n",
       " ('2011-06-17',),\n",
       " ('2011-06-24',),\n",
       " ('2011-04-01',),\n",
       " ('2011-04-08',),\n",
       " ('2011-04-15',),\n",
       " ('2011-04-21',),\n",
       " ('2011-04-29',),\n",
       " ('2011-05-06',),\n",
       " ('2011-05-13',),\n",
       " ('2011-05-20',),\n",
       " ('2011-05-27',),\n",
       " ('2011-06-03',),\n",
       " ('2011-06-10',),\n",
       " ('2011-06-17',),\n",
       " ('2011-06-24',),\n",
       " ('2011-04-01',),\n",
       " ('2011-04-08',),\n",
       " ('2011-04-15',),\n",
       " ('2011-04-21',),\n",
       " ('2011-04-29',),\n",
       " ('2011-05-06',),\n",
       " ('2011-05-13',),\n",
       " ('2011-05-20',),\n",
       " ('2011-05-27',),\n",
       " ('2011-06-03',),\n",
       " ('2011-06-10',),\n",
       " ('2011-06-17',),\n",
       " ('2011-06-24',),\n",
       " ('2011-04-01',),\n",
       " ('2011-04-08',),\n",
       " ('2011-04-15',),\n",
       " ('2011-04-21',),\n",
       " ('2011-04-29',),\n",
       " ('2011-05-06',),\n",
       " ('2011-05-13',),\n",
       " ('2011-05-20',),\n",
       " ('2011-05-27',),\n",
       " ('2011-06-03',),\n",
       " ('2011-06-10',),\n",
       " ('2011-06-17',),\n",
       " ('2011-06-24',)]"
      ]
     },
     "execution_count": 24,
     "metadata": {},
     "output_type": "execute_result"
    }
   ],
   "source": [
    "#find all grater than 2011-03-01\n",
    "session.query(Dow.date).\\\n",
    "    filter(Dow.date > '2011-03-01').\\\n",
    "    filter(Dow.date).all()"
   ]
  },
  {
   "cell_type": "code",
   "execution_count": 16,
   "metadata": {},
   "outputs": [
    {
     "name": "stdout",
     "output_type": "stream",
     "text": [
      "2022-07-26\n",
      "2017-10-08\n"
     ]
    }
   ],
   "source": [
    "#todays date\n",
    "print(dt.date.today())\n",
    "#specific date\n",
    "print(dt.date(2017,10,8))"
   ]
  },
  {
   "cell_type": "code",
   "execution_count": 18,
   "metadata": {},
   "outputs": [
    {
     "data": {
      "text/plain": [
       "datetime.date(2022, 5, 24)"
      ]
     },
     "execution_count": 18,
     "metadata": {},
     "output_type": "execute_result"
    }
   ],
   "source": [
    "#date 9 weejs ago from today\n",
    "weeks_ago = dt.date.today() - dt.timedelta(days=63)\n",
    "weeks_ago"
   ]
  },
  {
   "cell_type": "code",
   "execution_count": 20,
   "metadata": {},
   "outputs": [
    {
     "name": "stdout",
     "output_type": "stream",
     "text": [
      "Query Date: 2011-04-01\n"
     ]
    }
   ],
   "source": [
    "# Query for the Dow closing price for `CSCO` 1 week before `2011-04-08` using the datetime library\n",
    "query_date = dt.date(2011,4,8) - dt.timedelta(days=7)\n",
    "print(\"Query Date:\", query_date)"
   ]
  },
  {
   "cell_type": "code",
   "execution_count": 22,
   "metadata": {},
   "outputs": [
    {
     "data": {
      "text/plain": [
       "[('2011-04-01', 17.04)]"
      ]
     },
     "execution_count": 22,
     "metadata": {},
     "output_type": "execute_result"
    }
   ],
   "source": [
    "session.query(Dow.date, Dow.close_price).\\\n",
    "    filter(Dow.stock == 'CSCO').\\\n",
    "    filter(Dow.date == query_date).all()"
   ]
  },
  {
   "cell_type": "code",
   "execution_count": 21,
   "metadata": {},
   "outputs": [
    {
     "data": {
      "text/plain": [
       "'26'"
      ]
     },
     "execution_count": 21,
     "metadata": {},
     "output_type": "execute_result"
    }
   ],
   "source": [
    "#just day from datetime object\n",
    "dt.date.today().strftime(\"%d\")"
   ]
  },
  {
   "cell_type": "code",
   "execution_count": 23,
   "metadata": {},
   "outputs": [
    {
     "data": {
      "text/plain": [
       "[('2011-01-14', 'AA', 16.71, 15.97),\n",
       " ('2011-01-14', 'AXP', 44.2, 46.25),\n",
       " ('2011-01-14', 'BA', 69.42, 70.07),\n",
       " ('2011-01-14', 'BAC', 14.17, 15.25),\n",
       " ('2011-01-14', 'CAT', 93.21, 94.01),\n",
       " ('2011-01-14', 'CSCO', 20.94, 21.21),\n",
       " ('2011-01-14', 'CVX', 90.95, 92.83),\n",
       " ('2011-01-14', 'DD', 48.3, 49.8),\n",
       " ('2011-01-14', 'DIS', 39.01, 39.29),\n",
       " ('2011-01-14', 'GE', 18.61, 18.82),\n",
       " ('2011-01-14', 'HD', 34.16, 35.89),\n",
       " ('2011-01-14', 'HPQ', 44.86, 46.25),\n",
       " ('2011-01-14', 'IBM', 147.0, 150.0),\n",
       " ('2011-01-14', 'INTC', 20.71, 21.08),\n",
       " ('2011-01-14', 'JNJ', 62.29, 62.55),\n",
       " ('2011-01-14', 'JPM', 43.27, 44.91),\n",
       " ('2011-01-14', 'KRFT', 30.91, 31.34),\n",
       " ('2011-01-14', 'KO', 62.7, 63.13),\n",
       " ('2011-01-14', 'MCD', 74.25, 74.06),\n",
       " ('2011-01-14', 'MMM', 85.7, 88.1),\n",
       " ('2011-01-14', 'MRK', 37.26, 34.23),\n",
       " ('2011-01-14', 'MSFT', 28.2, 28.3),\n",
       " ('2011-01-14', 'PFE', 18.22, 18.34),\n",
       " ('2011-01-14', 'PG', 64.4, 65.53),\n",
       " ('2011-01-14', 'T', 28.54, 28.43),\n",
       " ('2011-01-14', 'TRV', 53.12, 54.63),\n",
       " ('2011-01-14', 'UTX', 78.27, 79.08),\n",
       " ('2011-01-14', 'VZ', 36.55, 35.46),\n",
       " ('2011-01-14', 'WMT', 53.65, 54.81),\n",
       " ('2011-01-14', 'XOM', 75.13, 77.84)]"
      ]
     },
     "execution_count": 23,
     "metadata": {},
     "output_type": "execute_result"
    }
   ],
   "source": [
    "# Query for all stocks, their opening and closing price that match\n",
    "# following date string in the format `%d`\n",
    "date_str = \"14\"\n",
    "session.query(Dow.date, Dow.stock, Dow.open_price, Dow.close_price).\\\n",
    "    filter(func.strftime(\"%d\", Dow.date) == date_str).all()"
   ]
  },
  {
   "cell_type": "markdown",
   "metadata": {
    "slideshow": {
     "slide_type": "subslide"
    }
   },
   "source": [
    "## Analysis"
   ]
  },
  {
   "cell_type": "markdown",
   "metadata": {},
   "source": [
    "Analyze the Average prices (open, high, low, close) for all stocks in the Month of May"
   ]
  },
  {
   "cell_type": "code",
   "execution_count": 25,
   "metadata": {
    "deletable": false,
    "nbgrader": {
     "checksum": "c06b2d6ed8b59a597a6f87d27bd5fe6f",
     "grade": false,
     "grade_id": "cell-a5033f5b305f26d6",
     "locked": false,
     "schema_version": 1,
     "solution": true
    }
   },
   "outputs": [
    {
     "data": {
      "text/plain": [
       "[('AA', 16.8475, 17.3375, 16.4175, 16.747500000000002),\n",
       " ('AXP', 49.89750000000001, 51.07, 49.315, 50.5025),\n",
       " ('BA', 78.7175, 79.2175, 76.8825, 78.2125),\n",
       " ('BAC', 12.0, 12.235, 11.7325, 11.8775),\n",
       " ('CAT', 108.5525, 110.5975, 104.045, 106.4),\n",
       " ('CSCO', 17.067500000000003, 17.255000000000003, 16.5925, 16.8575),\n",
       " ('CVX', 103.9725, 105.72749999999999, 100.4575, 102.76249999999999),\n",
       " ('DD', 53.9625, 54.9225, 52.14, 53.21),\n",
       " ('DIS', 42.3, 42.8175, 41.11749999999999, 41.900000000000006),\n",
       " ('GE', 19.96, 20.175, 19.4875, 19.740000000000002),\n",
       " ('HD', 36.765, 37.51, 36.504999999999995, 36.7625),\n",
       " ('HPQ', 39.315, 40.14, 37.8425, 38.54),\n",
       " ('IBM', 169.7025, 171.58, 166.9375, 169.11749999999998),\n",
       " ('INTC', 23.0975, 23.67, 22.652500000000003, 23.0225),\n",
       " ('JNJ', 65.6575, 66.8475, 65.0575, 66.08749999999999),\n",
       " ('JPM', 44.015, 44.709999999999994, 43.019999999999996, 43.527499999999996),\n",
       " ('KO', 67.5775, 68.32499999999999, 66.75750000000001, 67.4725),\n",
       " ('KRFT', 34.305, 35.0225, 33.945, 34.7375),\n",
       " ('MCD', 79.95750000000001, 81.5525, 79.8025, 80.8475),\n",
       " ('MMM', 95.17750000000001, 96.20750000000001, 93.2425, 94.66),\n",
       " ('MRK', 36.57, 37.184999999999995, 36.21, 36.685),\n",
       " ('MSFT', 25.2275, 25.5775, 24.677500000000002, 25.0375),\n",
       " ('PFE', 20.75, 21.1125, 20.3875, 20.7725),\n",
       " ('PG', 65.9075, 67.1825, 65.49249999999999, 66.4225),\n",
       " ('T', 31.28, 31.7, 30.974999999999998, 31.32),\n",
       " ('TRV', 62.7625, 63.3425, 61.879999999999995, 62.3825),\n",
       " ('UTX', 88.445, 89.20500000000001, 86.50249999999998, 88.005),\n",
       " ('VZ', 37.405, 37.6125, 36.7225, 37.09),\n",
       " ('WMT', 55.14, 55.9475, 54.237500000000004, 55.182500000000005),\n",
       " ('XOM', 82.8875, 84.27499999999999, 80.16999999999999, 81.94)]"
      ]
     },
     "execution_count": 25,
     "metadata": {},
     "output_type": "execute_result"
    }
   ],
   "source": [
    "# Query for the stock and average prices (open, high, low, close) \n",
    "# for all stock in the month of May\n",
    "# Sort the result by stock name\n",
    "\n",
    "sel = [Dow.stock, \n",
    "       func.avg(Dow.open_price), \n",
    "       func.avg(Dow.high_price), \n",
    "       func.avg(Dow.low_price), \n",
    "       func.avg(Dow.close_price)]\n",
    "\n",
    "# YOUR CODE HERE\n",
    "may_averages = session.query(*sel).\\\n",
    "    filter(func.strftime(\"%m\", Dow.date) == \"05\").\\\n",
    "    group_by(Dow.stock).\\\n",
    "    order_by(Dow.stock).all()\n",
    "may_averages"
   ]
  },
  {
   "cell_type": "code",
   "execution_count": 28,
   "metadata": {
    "deletable": false,
    "nbgrader": {
     "checksum": "25b82936c5b5ba4f75cbf3baf547bcb8",
     "grade": false,
     "grade_id": "cell-8f14868d3f8f3f50",
     "locked": false,
     "schema_version": 1,
     "solution": true
    }
   },
   "outputs": [
    {
     "data": {
      "image/png": "[encoded data removed]",
      "text/plain": [
       "<Figure size 432x288 with 1 Axes>"
      ]
     },
     "metadata": {},
     "output_type": "display_data"
    }
   ],
   "source": [
    "# Add the May averages into a DataFrame\n",
    "# Plot the Results in a Matplotlib bar chart\n",
    "# YOUR CODE HERE\n",
    "df = pd.DataFrame(may_averages, columns = [\"stock\", \"open_avg\", \"high_avg\", \"low_avg\", \"close_avg\"])\n",
    "df.set_index(\"stock\", inplace=True)\n",
    "df.plot.bar()\n",
    "plt.tight_layout() #autofits plot\n",
    "plt.show()"
   ]
  },
  {
   "cell_type": "markdown",
   "metadata": {},
   "source": [
    "### Bonus\n",
    "Calculate the high-low peak-to-peak (PTP) values for `IBM` stock after `2011-05-31`. \n",
    "* Note: high-low PTP is calculated using `high_price` - `low_price`\n",
    "* Use a DateTime.date object in the query filter\n",
    "* Use a list comprehension or numpy's ravel method to unpack the query's list of tuples into a list of PTP values.\n",
    "* Use matplotlib to plot the PTP values as a boxplot"
   ]
  },
  {
   "cell_type": "code",
   "execution_count": 30,
   "metadata": {
    "deletable": false,
    "nbgrader": {
     "checksum": "fddb0cccaa58c0f7a6d7193efdb0209b",
     "grade": false,
     "grade_id": "cell-91ca80cc05b37ea7",
     "locked": false,
     "schema_version": 1,
     "solution": true
    },
    "slideshow": {
     "slide_type": "fragment"
    }
   },
   "outputs": [
    {
     "data": {
      "text/plain": [
       "[5.759999999999991, 3.0900000000000034, 3.579999999999984, 3.219999999999999]"
      ]
     },
     "execution_count": 30,
     "metadata": {},
     "output_type": "execute_result"
    }
   ],
   "source": [
    "# Design a query to calculate the PTP for stock `IBM` after May, 2011\n",
    "# YOUR CODE HERE\n",
    "import datetime as dt\n",
    "import numpy as np\n",
    "\n",
    "date = dt.datetime(2011,5,31)\n",
    "\n",
    "results = session.query(Dow.high_price - Dow.low_price).\\\n",
    "    filter(Dow.date > date).filter(Dow.stock == \"IBM\").all()\n",
    "\n",
    "ptps = list(np.ravel(results))\n",
    "ptps"
   ]
  },
  {
   "cell_type": "code",
   "execution_count": 31,
   "metadata": {
    "deletable": false,
    "nbgrader": {
     "checksum": "ef214205bd63979f0aa120accbfe6797",
     "grade": false,
     "grade_id": "cell-d0b673b76e86e46e",
     "locked": false,
     "schema_version": 1,
     "solution": true
    }
   },
   "outputs": [
    {
     "data": {
      "image/png": "[encoded data removed]",
      "text/plain": [
       "<Figure size 432x288 with 1 Axes>"
      ]
     },
     "metadata": {},
     "output_type": "display_data"
    }
   ],
   "source": [
    "# Load the query into a dataframe, set the index to the date, and plot the ptps\n",
    "# YOUR CODE HERE\n",
    "fig, ax = plt.subplots()\n",
    "\n",
    "x = range(len(ptps))\n",
    "ax.boxplot(ptps, patch_artist=True) #patch artist fills box with color\n",
    "ax.set_title(\"IBM PTPs\")\n",
    "fig.tight_layout()\n",
    "plt.show()"
   ]
  },
  {
   "cell_type": "code",
   "execution_count": null,
   "metadata": {},
   "outputs": [],
   "source": []
  }
 ],
 "metadata": {
  "kernel_info": {
   "name": "python3"
  },
  "kernelspec": {
   "display_name": "Python 3 (ipykernel)",
   "language": "python",
   "name": "python3"
  },
  "language_info": {
   "codemirror_mode": {
    "name": "ipython",
    "version": 3
   },
   "file_extension": ".py",
   "mimetype": "text/x-python",
   "name": "python",
   "nbconvert_exporter": "python",
   "pygments_lexer": "ipython3",
   "version": "3.7.13"
  },
  "nteract": {
   "version": "0.2.0"
  },
  "varInspector": {
   "cols": {
    "lenName": 16,
    "lenType": 16,
    "lenVar": 40
   },
   "kernels_config": {
    "python": {
     "delete_cmd_postfix": "",
     "delete_cmd_prefix": "del ",
     "library": "var_list.py",
     "varRefreshCmd": "print(var_dic_list())"
    },
    "r": {
     "delete_cmd_postfix": ") ",
     "delete_cmd_prefix": "rm(",
     "library": "var_list.r",
     "varRefreshCmd": "cat(var_dic_list()) "
    }
   },
   "types_to_exclude": [
    "module",
    "function",
    "builtin_function_or_method",
    "instance",
    "_Feature"
   ],
   "window_display": false
  }
 },
 "nbformat": 4,
 "nbformat_minor": 2
}
